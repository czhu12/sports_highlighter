{
 "cells": [
  {
   "cell_type": "code",
   "execution_count": 1,
   "metadata": {
    "collapsed": true
   },
   "outputs": [],
   "source": [
    "%matplotlib inline\n",
    "import numpy as np\n",
    "from moviepy.editor import * \n",
    "import moviepy.editor as mpy\n",
    "import matplotlib.pyplot as plt\n",
    "import pandas as pd\n",
    "from moviepy.editor import VideoFileClip\n",
    "from moviepy.video.compositing.concatenate import concatenate_videoclips\n",
    "import time\n",
    "from PIL import Image\n",
    "import pytesseract\n",
    "import math"
   ]
  },
  {
   "cell_type": "code",
   "execution_count": 2,
   "metadata": {
    "collapsed": true
   },
   "outputs": [],
   "source": [
    "df = pd.read_csv('../data/christmas.csv')\n",
    "clip = VideoFileClip(\"../data/game.mp4\")"
   ]
  },
  {
   "cell_type": "code",
   "execution_count": 54,
   "metadata": {
    "collapsed": true
   },
   "outputs": [],
   "source": [
    "class GameTime:\n",
    "    def __init__(self, period, minute, second):\n",
    "        self.period = int(period)\n",
    "        self.minute = int(minute)\n",
    "        self.second = int(second)\n",
    "        \n",
    "    def is_equal(self, other):\n",
    "        if other.period == self.period and other.minute == self.minute and other.second == self.second:\n",
    "            return True\n",
    "        \n",
    "    def is_after(self, other):\n",
    "        if self.period != other.period:\n",
    "            return self.period > other.period\n",
    "        if self.minute != other.minute:\n",
    "            return self.minute < other.minute\n",
    "        if self.second != other.second:\n",
    "            return self.second < other.second\n",
    "        # They are equal\n",
    "        return False\n",
    "    \n",
    "    def distance(self, other):\n",
    "        period_distance = other.period - self.period\n",
    "        minute_distance = self.minute - other.minute\n",
    "        second_distance = self.second - other.second\n",
    "        period_distance *= 12 * 60\n",
    "        minute_distance *= 60\n",
    "        \n",
    "        return period_distance + minute_distance + second_distance\n",
    "        \n",
    "    def is_before(self, other):\n",
    "        return not self.is_equal(other) and not self.is_after(other)\n",
    "    \n",
    "    def period_str(self):\n",
    "        if self.period == 1:\n",
    "            return '1st'\n",
    "        if self.period == 2:\n",
    "            return '2nd'\n",
    "        if self.period == 3:\n",
    "            return '3rd'\n",
    "        if self.period == 4:\n",
    "            return '4th'\n",
    "        raise Exception(\"{} is not a valid period\".format(self.period))\n",
    "        \n",
    "    def __str__(self):\n",
    "        return \"{} {}:{}\".format(self.period_str(), self.minute, str(self.second).zfill(2))"
   ]
  },
  {
   "cell_type": "code",
   "execution_count": 58,
   "metadata": {
    "collapsed": false
   },
   "outputs": [
    {
     "data": {
      "text/plain": [
       "719"
      ]
     },
     "execution_count": 58,
     "metadata": {},
     "output_type": "execute_result"
    }
   ],
   "source": [
    "GameTime(1, 11, 59).distance(GameTime(2, 12, 0))"
   ]
  },
  {
   "cell_type": "code",
   "execution_count": 42,
   "metadata": {
    "collapsed": false
   },
   "outputs": [
    {
     "data": {
      "text/plain": [
       "'1st 11:42'"
      ]
     },
     "execution_count": 42,
     "metadata": {},
     "output_type": "execute_result"
    }
   ],
   "source": [
    "def correct_misaligned_time(time):\n",
    "    if len(time) > 1 and ord(time[0]) > 128:\n",
    "        time = time[1:]\n",
    "    if len(time) > 1:\n",
    "        time = time.replace(\"l\", \"1\") # commonly mistaken\n",
    "    # sometimes, \"1st 11:42\" gets predicted as \"1st 1 1:42\"\n",
    "    if len(time) > 9:\n",
    "        # remove all spaces, and add one at pos 4\n",
    "        time = time.replace(\" \", \"\")\n",
    "        time = time[:3] + ' ' + time[3:]\n",
    "    return time\n",
    "correct_misaligned_time(\"1st 1 1:42\")"
   ]
  },
  {
   "cell_type": "code",
   "execution_count": 29,
   "metadata": {
    "collapsed": false
   },
   "outputs": [],
   "source": [
    "PERIODS = ['1st', '2nd', '3rd', '4th']\n",
    "class InvalidFrameException(Exception):\n",
    "    pass\n",
    "\n",
    "def current_game_time(frame):\n",
    "    # This is super hacky right now\n",
    "    img = Image.fromarray(frame.astype(np.uint8))\n",
    "    start_x = 560\n",
    "    # This should be relative\n",
    "    start_y = img.height * 0.89\n",
    "    end_x = img.width - 600\n",
    "    end_y = img.height - 40\n",
    "    game_time = img.crop((start_x, start_y, end_x, end_y))\n",
    "    # Convert it back to an array\n",
    "    return game_time\n",
    "\n",
    "def is_number(s):\n",
    "    try:\n",
    "        int(s)\n",
    "        return True\n",
    "    except ValueError:\n",
    "        pass\n",
    "    return False\n",
    "\n",
    "    \n",
    "# Time examples:\n",
    "# 1st 11:12\n",
    "# 1st 31.2 => Implied 0\n",
    "def is_malformed_time(time):\n",
    "    if ' ' not in time:\n",
    "        return True\n",
    "    if ':' not in time and '.' not in time:\n",
    "        return True\n",
    "    if not is_number(time[0]):\n",
    "        return True\n",
    "    \n",
    "    if time[1:3] not in ['st', 'nd', 'rd', 'th']:\n",
    "        return True\n",
    "    if not is_number(time[-1]):\n",
    "        return True\n",
    "        \n",
    "    return False\n",
    "\n",
    "def parse_time(time_string):\n",
    "    period = time_string.split(\" \")[0]\n",
    "    period = PERIODS.index(period) + 1\n",
    "    \n",
    "    time = time_string.split(\" \")[1]\n",
    "    if ':' in time:\n",
    "        minute = int(time.split(':')[0])\n",
    "        seconds = int(time.split(':')[1])\n",
    "    elif '.' in time:\n",
    "        minute = 0\n",
    "        seconds = int(time.split('.')[0])\n",
    "    else:\n",
    "        print(\"Fucked up\")\n",
    "        \n",
    "    return GameTime(period, minute, seconds)\n",
    "    \n",
    "def game_time_for_frame(frame):\n",
    "    game_time = current_game_time(frame)\n",
    "    current_time = pytesseract.image_to_string(game_time, config=\"-c tessedit_char_whitelist=0123456789:.stndrh -psm 6\")\n",
    "    current_time = correct_misaligned_time(current_time)\n",
    "    if is_malformed_time(current_time):\n",
    "        raise InvalidFrameException(\"Was not able to find valid time 1. Decoded: {}\".format(current_time))\n",
    "        \n",
    "    try:\n",
    "        # TODO: This doesn't handle 31.1 time (implied 0 minutes)\n",
    "        return parse_time(current_time)\n",
    "    except Exception, e:\n",
    "        raise InvalidFrameException(\"Was not able to find valid time 2. Decoded: {}, {}\".format(current_time, e))"
   ]
  },
  {
   "cell_type": "code",
   "execution_count": 30,
   "metadata": {
    "collapsed": false
   },
   "outputs": [],
   "source": [
    "# Time detection\n",
    "assert is_malformed_time('nst 1:11')\n",
    "assert is_malformed_time('12t 1:11')\n",
    "assert is_malformed_time('2nd 1:11') == False\n",
    "assert is_malformed_time('2nd 111')\n",
    "assert is_malformed_time('2nd 111')\n",
    "assert is_malformed_time('2nd hhh')\n",
    "assert is_malformed_time('1st 31.2') == False\n",
    "assert is_malformed_time('1st 0.1') == False\n",
    "\n",
    "# GameTime\n",
    "assert GameTime(1, 12, 0).is_before(GameTime(2, 12, 0)) == True\n",
    "assert GameTime(1, 10, 20).is_after(GameTime(1, 10, 23)) == True\n",
    "assert GameTime(1, 11, 20).is_before(GameTime(1, 10, 23)) == True"
   ]
  },
  {
   "cell_type": "code",
   "execution_count": 7,
   "metadata": {
    "collapsed": false
   },
   "outputs": [],
   "source": [
    "MAX_SPEED = 60 # 15 seconds at a time.\n",
    "def seek_to_time(time, frame_number, clip, current_game_time=GameTime(-1, -1, -1), debug=False):\n",
    "    seek_speed = 1\n",
    "    seek_direction = 1\n",
    "    acceleration_rate = 1.2\n",
    "    current_frame = frame_number\n",
    "    \n",
    "    seek_game_time = current_game_time\n",
    "    while not time.is_equal(seek_game_time):\n",
    "        # This means that the time was no good, and we have to keep seeking further forward\n",
    "        if debug:\n",
    "            print(\"Current Frame: {}\".format(current_frame))\n",
    "        try:\n",
    "            # We found a game time. Is it greater or less than the time we are looking for?\n",
    "            seek_game_time = game_time_for_frame(clip.get_frame(current_frame))\n",
    "            \n",
    "            if time.is_before(seek_game_time):\n",
    "                # Continue searching\n",
    "                if debug:\n",
    "                    print(\"{} is before {}\".format(time, seek_game_time))\n",
    "                seek_speed = 1 # reset to 1\n",
    "                seek_direction = -1\n",
    "            elif time.is_after(seek_game_time):\n",
    "                # start searching in other direction\n",
    "                if debug:\n",
    "                    print(\"{} is after {}\".format(time, seek_game_time))\n",
    "                pass\n",
    "            elif time.is_equal(seek_game_time):\n",
    "                if debug:\n",
    "                    print(\"{} is equal to {}\".format(time, seek_game_time))\n",
    "                break\n",
    "        except InvalidFrameException, e:\n",
    "            print(e)\n",
    "            pass\n",
    "        current_frame += seek_speed * seek_direction\n",
    "        seek_speed = min(int(math.ceil(seek_speed * acceleration_rate)), MAX_SPEED)\n",
    "        \n",
    "    while time.is_equal(seek_game_time):\n",
    "        seek_speed = 1 # reset to 1\n",
    "        seek_direction = -1\n",
    "        current_frame += seek_speed * seek_direction\n",
    "        try:\n",
    "            seek_game_time = game_time_for_frame(clip.get_frame(current_frame))\n",
    "        except InvalidFrameException, e:\n",
    "            break # reached an invalid frame, stop rewinding\n",
    "    \n",
    "    actual_frame = current_frame + 1\n",
    "    return actual_frame\n",
    "            \n",
    "        "
   ]
  },
  {
   "cell_type": "code",
   "execution_count": 8,
   "metadata": {
    "collapsed": true
   },
   "outputs": [],
   "source": [
    "SHOT_TYPES = [\"layup\", \"shot\", \"dunk\"]\n",
    "MISS = \"miss\"\n",
    "\n",
    "def did_score(description):\n",
    "    if type(description) == float:\n",
    "        return False\n",
    "    \n",
    "    description = description.lower()\n",
    "    for shot_type in SHOT_TYPES:\n",
    "        if shot_type in description:\n",
    "            if MISS not in description:\n",
    "                return True\n",
    "    return False"
   ]
  },
  {
   "cell_type": "code",
   "execution_count": 9,
   "metadata": {
    "collapsed": false
   },
   "outputs": [],
   "source": [
    "assert did_score(\"James  Cutting Dunk Shot (31 PTS)\")\n",
    "assert did_score(\"Irving 2' Reverse Layup\")\n",
    "assert not did_score(\"MISS Irving 2' Reverse Layup\")\n",
    "assert not did_score(\"CAVALIERS Timeout: Short (Full 6 Short 2)\")\n"
   ]
  },
  {
   "cell_type": "code",
   "execution_count": 33,
   "metadata": {
    "collapsed": false,
    "scrolled": true
   },
   "outputs": [
    {
     "name": "stdout",
     "output_type": "stream",
     "text": [
      "(\"Durant 1' Running Layup (2 PTS)\", '2 - 0', '1st 11:17')\n",
      "Searching for time: 1st 11:17 from frame: 0\n",
      "Was not able to find valid time 1. Decoded: 1.1.\n",
      "Was not able to find valid time 1. Decoded: d r3 1\n",
      "Was not able to find valid time 1. Decoded: \n",
      "Was not able to find valid time 1. Decoded: .\n",
      "Was not able to find valid time 1. Decoded: \n",
      "Was not able to find valid time 1. Decoded: 7 1\n",
      "Was not able to find valid time 1. Decoded: \n",
      "Was not able to find valid time 1. Decoded: \n",
      "Was not able to find valid time 1. Decoded: 1\n",
      "Was not able to find valid time 1. Decoded: 1\n",
      "Was not able to find valid time 1. Decoded: r1\n",
      "Was not able to find valid time 1. Decoded: .s...\n",
      "(\"Thompson 2' Driving Layup (2 PTS) (Pachulia 1 AST)\", '4 - 2', '1st 9:57')\n",
      "Searching for time: 1st 9:57 from frame: 152\n",
      "Was not able to find valid time 1. Decoded: 1\n",
      "(\"Love 25' 3PT Jump Shot (5 PTS) (Irving 1 AST)\", '6 - 6', '1st 9:06')\n",
      "Searching for time: 1st 9:06 from frame: 296\n",
      "Was not able to find valid time 1. Decoded: h:\n",
      "Was not able to find valid time 1. Decoded: t\n",
      "Was not able to find valid time 1. Decoded: \n",
      "(\"Pachulia 1' Layup (2 PTS) (Durant 1 AST)\", '8 - 6', '1st 7:49')\n",
      "Searching for time: 1st 7:49 from frame: 487\n",
      "(\"Irving 14' Pullup Jump Shot (3 PTS)\", '8 - 8', '1st 7:05')\n",
      "Searching for time: 1st 7:05 from frame: 639\n",
      "Was not able to find valid time 1. Decoded: 11\n",
      "1\n",
      "(\"Irving 14' Driving Bank Shot (5 PTS) (Love 1 AST)\", '8 - 10', '1st 6:26')\n",
      "Searching for time: 1st 6:26 from frame: 708\n",
      "Was not able to find valid time 1. Decoded: \n",
      "Was not able to find valid time 1. Decoded: \n",
      "Was not able to find valid time 1. Decoded: :71  1\n",
      "('McGee  Tip Dunk Shot (2 PTS)', '10 - 10', '1st 5:59')\n",
      "Searching for time: 1st 5:59 from frame: 787\n",
      "(\"James 2' Running Layup (2 PTS)\", '12 - 12', '1st 4:59')\n",
      "Searching for time: 1st 4:59 from frame: 814\n",
      "Was not able to find valid time 1. Decoded: 25  .\n",
      "Was not able to find valid time 1. Decoded: .  4\n",
      "Was not able to find valid time 1. Decoded: 9 4:55\n",
      "('Durant  Driving Dunk (8 PTS)', '14 - 12', '1st 4:52')\n",
      "Searching for time: 1st 4:52 from frame: 931\n",
      "('James  Running Dunk (4 PTS) (Love 2 AST)', '14 - 14', '1st 4:46')\n",
      "Searching for time: 1st 4:46 from frame: 938\n",
      "(\"Durant 10' Driving Bank Shot (12 PTS)\", '18 - 14', '1st 3:38')\n",
      "Searching for time: 1st 3:38 from frame: 944\n",
      "Was not able to find valid time 1. Decoded: \n",
      "(\"James 1' Driving Layup (6 PTS)\", '20 - 16', '1st 2:19')\n",
      "Searching for time: 1st 2:19 from frame: 1097\n",
      "Was not able to find valid time 1. Decoded: 71\n",
      "Was not able to find valid time 1. Decoded: h .\n",
      "Was not able to find valid time 1. Decoded: 43h:\n",
      "Was not able to find valid time 1. Decoded: 43\n",
      "Was not able to find valid time 1. Decoded: 6\n",
      "Was not able to find valid time 1. Decoded: ... ::11:.:nnnn\n",
      "Was not able to find valid time 1. Decoded: t.\n",
      "Was not able to find valid time 1. Decoded: 7 \n",
      "1\n",
      "Was not able to find valid time 1. Decoded: 3 3.\n",
      "Was not able to find valid time 1. Decoded: \n",
      "(\"Love 2' Putback Layup (7 PTS)\", '20 - 18', '1st 1:45')\n",
      "Searching for time: 1st 1:45 from frame: 1354\n",
      "Was not able to find valid time 1. Decoded: 3\n",
      "(\"Clark 2' Cutting Layup Shot (2 PTS) (West 1 AST)\", '24 - 20', '1st 0:56')\n",
      "Searching for time: 1st 0:56 from frame: 1402\n",
      "Was not able to find valid time 1. Decoded: 1\n",
      "Was not able to find valid time 1. Decoded: \n",
      "Was not able to find valid time 1. Decoded: 5 t\n",
      "Was not able to find valid time 1. Decoded: \n",
      "(\"Frye 24' 3PT Jump Shot (3 PTS) (Irving 2 AST)\", '24 - 23', '1st 0:43')\n",
      "Searching for time: 1st 0:43 from frame: 1553\n",
      "(\"Thompson 2' Cutting Layup Shot (5 PTS) (West 2 AST)\", '27 - 25', '1st 0:00')\n",
      "Searching for time: 1st 0:00 from frame: 1569\n",
      "Was not able to find valid time 1. Decoded: .rrn rn .\n",
      "Was not able to find valid time 1. Decoded: 151: 0.0\n",
      "Was not able to find valid time 1. Decoded: n1n .\n",
      "3533.1\n",
      "Was not able to find valid time 1. Decoded: n\n",
      "Was not able to find valid time 1. Decoded: 3th\n",
      "Was not able to find valid time 1. Decoded: n\n",
      "Was not able to find valid time 1. Decoded: ht 11:49\n",
      "Was not able to find valid time 1. Decoded: \n",
      "Was not able to find valid time 1. Decoded: 1.\n",
      ".5 r.\n",
      "Was not able to find valid time 1. Decoded: hn. \n",
      "531\n",
      "Was not able to find valid time 1. Decoded: ns. ...\n",
      "nnr\n",
      "Was not able to find valid time 1. Decoded: \n",
      "Was not able to find valid time 1. Decoded: \n",
      "Was not able to find valid time 1. Decoded: .1:\n",
      "Was not able to find valid time 1. Decoded: 310 151\n",
      "Was not able to find valid time 1. Decoded: 1st h28\n",
      "Was not able to find valid time 1. Decoded: n1t 1\n",
      "5 5\n",
      "Was not able to find valid time 1. Decoded: .\n",
      "Was not able to find valid time 1. Decoded: \n",
      "Was not able to find valid time 1. Decoded: \n",
      "Was not able to find valid time 1. Decoded: n14 35r\n",
      "Was not able to find valid time 1. Decoded: hr.\n",
      "Was not able to find valid time 1. Decoded: 1\n",
      "Was not able to find valid time 1. Decoded: 1.1.\n",
      "Was not able to find valid time 1. Decoded: 1.1.\n",
      "Was not able to find valid time 1. Decoded: 1.1.\n",
      "Was not able to find valid time 1. Decoded: 1.1.\n",
      "Was not able to find valid time 1. Decoded: 1.1.\n",
      "Was not able to find valid time 1. Decoded: 1.1.\n",
      "Was not able to find valid time 1. Decoded: 1.1.\n",
      "Was not able to find valid time 1. Decoded: 1.1.\n",
      "Was not able to find valid time 1. Decoded: 1.1.\n",
      "Was not able to find valid time 1. Decoded: 1.1.\n",
      "Was not able to find valid time 1. Decoded: 1.1.\n",
      "Was not able to find valid time 1. Decoded: 1.1.\n",
      "Was not able to find valid time 1. Decoded: 1.1.\n",
      "Was not able to find valid time 1. Decoded: 1.1.\n",
      "Was not able to find valid time 1. Decoded: 1.1.\n",
      "Was not able to find valid time 1. Decoded: 1.1.\n",
      "Was not able to find valid time 1. Decoded: 1.1.\n",
      "Was not able to find valid time 1. Decoded: 1.1.\n",
      "Was not able to find valid time 1. Decoded: 1.1.\n",
      "Was not able to find valid time 1. Decoded: 1.1.\n"
     ]
    },
    {
     "ename": "KeyboardInterrupt",
     "evalue": "",
     "output_type": "error",
     "traceback": [
      "\u001b[0;31m---------------------------------------------------------------------------\u001b[0m",
      "\u001b[0;31mKeyboardInterrupt\u001b[0m                         Traceback (most recent call last)",
      "\u001b[0;32m<ipython-input-33-e104ebae7efe>\u001b[0m in \u001b[0;36m<module>\u001b[0;34m()\u001b[0m\n\u001b[1;32m     27\u001b[0m         \u001b[0mtime\u001b[0m\u001b[0;34m,\u001b[0m\u001b[0;34m\u001b[0m\u001b[0m\n\u001b[1;32m     28\u001b[0m         \u001b[0mcurrent_frame\u001b[0m\u001b[0;34m,\u001b[0m\u001b[0;34m\u001b[0m\u001b[0m\n\u001b[0;32m---> 29\u001b[0;31m         \u001b[0mclip\u001b[0m\u001b[0;34m,\u001b[0m\u001b[0;34m\u001b[0m\u001b[0m\n\u001b[0m\u001b[1;32m     30\u001b[0m     )\n\u001b[1;32m     31\u001b[0m \u001b[0;34m\u001b[0m\u001b[0m\n",
      "\u001b[0;32m<ipython-input-7-1fd060aefeaa>\u001b[0m in \u001b[0;36mseek_to_time\u001b[0;34m(time, frame_number, clip, current_game_time, debug)\u001b[0m\n\u001b[1;32m     13\u001b[0m         \u001b[0;32mtry\u001b[0m\u001b[0;34m:\u001b[0m\u001b[0;34m\u001b[0m\u001b[0m\n\u001b[1;32m     14\u001b[0m             \u001b[0;31m# We found a game time. Is it greater or less than the time we are looking for?\u001b[0m\u001b[0;34m\u001b[0m\u001b[0;34m\u001b[0m\u001b[0m\n\u001b[0;32m---> 15\u001b[0;31m             \u001b[0mseek_game_time\u001b[0m \u001b[0;34m=\u001b[0m \u001b[0mgame_time_for_frame\u001b[0m\u001b[0;34m(\u001b[0m\u001b[0mclip\u001b[0m\u001b[0;34m.\u001b[0m\u001b[0mget_frame\u001b[0m\u001b[0;34m(\u001b[0m\u001b[0mcurrent_frame\u001b[0m\u001b[0;34m)\u001b[0m\u001b[0;34m)\u001b[0m\u001b[0;34m\u001b[0m\u001b[0m\n\u001b[0m\u001b[1;32m     16\u001b[0m             \u001b[0;32mif\u001b[0m \u001b[0mtime\u001b[0m\u001b[0;34m.\u001b[0m\u001b[0mis_before\u001b[0m\u001b[0;34m(\u001b[0m\u001b[0mseek_game_time\u001b[0m\u001b[0;34m)\u001b[0m\u001b[0;34m:\u001b[0m\u001b[0;34m\u001b[0m\u001b[0m\n\u001b[1;32m     17\u001b[0m                 \u001b[0;31m# Continue searching\u001b[0m\u001b[0;34m\u001b[0m\u001b[0;34m\u001b[0m\u001b[0m\n",
      "\u001b[0;32m<decorator-gen-136>\u001b[0m in \u001b[0;36mget_frame\u001b[0;34m(self, t)\u001b[0m\n",
      "\u001b[0;32m/Users/chriszhu/my-venv/lib/python2.7/site-packages/moviepy/decorators.pyc\u001b[0m in \u001b[0;36mwrapper\u001b[0;34m(f, *a, **kw)\u001b[0m\n\u001b[1;32m     87\u001b[0m         new_kw = {k: fun(v) if k in varnames else v\n\u001b[1;32m     88\u001b[0m                  for (k,v) in kw.items()}\n\u001b[0;32m---> 89\u001b[0;31m         \u001b[0;32mreturn\u001b[0m \u001b[0mf\u001b[0m\u001b[0;34m(\u001b[0m\u001b[0;34m*\u001b[0m\u001b[0mnew_a\u001b[0m\u001b[0;34m,\u001b[0m \u001b[0;34m**\u001b[0m\u001b[0mnew_kw\u001b[0m\u001b[0;34m)\u001b[0m\u001b[0;34m\u001b[0m\u001b[0m\n\u001b[0m\u001b[1;32m     90\u001b[0m     \u001b[0;32mreturn\u001b[0m \u001b[0mdecorator\u001b[0m\u001b[0;34m.\u001b[0m\u001b[0mdecorator\u001b[0m\u001b[0;34m(\u001b[0m\u001b[0mwrapper\u001b[0m\u001b[0;34m)\u001b[0m\u001b[0;34m\u001b[0m\u001b[0m\n\u001b[1;32m     91\u001b[0m \u001b[0;34m\u001b[0m\u001b[0m\n",
      "\u001b[0;32m/Users/chriszhu/my-venv/lib/python2.7/site-packages/moviepy/Clip.pyc\u001b[0m in \u001b[0;36mget_frame\u001b[0;34m(self, t)\u001b[0m\n\u001b[1;32m     93\u001b[0m                 \u001b[0;32mreturn\u001b[0m \u001b[0mframe\u001b[0m\u001b[0;34m\u001b[0m\u001b[0m\n\u001b[1;32m     94\u001b[0m         \u001b[0;32melse\u001b[0m\u001b[0;34m:\u001b[0m\u001b[0;34m\u001b[0m\u001b[0m\n\u001b[0;32m---> 95\u001b[0;31m             \u001b[0;32mreturn\u001b[0m \u001b[0mself\u001b[0m\u001b[0;34m.\u001b[0m\u001b[0mmake_frame\u001b[0m\u001b[0;34m(\u001b[0m\u001b[0mt\u001b[0m\u001b[0;34m)\u001b[0m\u001b[0;34m\u001b[0m\u001b[0m\n\u001b[0m\u001b[1;32m     96\u001b[0m \u001b[0;34m\u001b[0m\u001b[0m\n\u001b[1;32m     97\u001b[0m     \u001b[0;32mdef\u001b[0m \u001b[0mfl\u001b[0m\u001b[0;34m(\u001b[0m\u001b[0mself\u001b[0m\u001b[0;34m,\u001b[0m \u001b[0mfun\u001b[0m\u001b[0;34m,\u001b[0m \u001b[0mapply_to\u001b[0m\u001b[0;34m=\u001b[0m\u001b[0;34m[\u001b[0m\u001b[0;34m]\u001b[0m\u001b[0;34m,\u001b[0m \u001b[0mkeep_duration\u001b[0m\u001b[0;34m=\u001b[0m\u001b[0mTrue\u001b[0m\u001b[0;34m)\u001b[0m\u001b[0;34m:\u001b[0m\u001b[0;34m\u001b[0m\u001b[0m\n",
      "\u001b[0;32m/Users/chriszhu/my-venv/lib/python2.7/site-packages/moviepy/video/io/VideoFileClip.pyc\u001b[0m in \u001b[0;36m<lambda>\u001b[0;34m(t)\u001b[0m\n\u001b[1;32m    101\u001b[0m         \u001b[0;32melse\u001b[0m\u001b[0;34m:\u001b[0m\u001b[0;34m\u001b[0m\u001b[0m\n\u001b[1;32m    102\u001b[0m \u001b[0;34m\u001b[0m\u001b[0m\n\u001b[0;32m--> 103\u001b[0;31m             \u001b[0mself\u001b[0m\u001b[0;34m.\u001b[0m\u001b[0mmake_frame\u001b[0m \u001b[0;34m=\u001b[0m \u001b[0;32mlambda\u001b[0m \u001b[0mt\u001b[0m\u001b[0;34m:\u001b[0m \u001b[0mself\u001b[0m\u001b[0;34m.\u001b[0m\u001b[0mreader\u001b[0m\u001b[0;34m.\u001b[0m\u001b[0mget_frame\u001b[0m\u001b[0;34m(\u001b[0m\u001b[0mt\u001b[0m\u001b[0;34m)\u001b[0m\u001b[0;34m\u001b[0m\u001b[0m\n\u001b[0m\u001b[1;32m    104\u001b[0m \u001b[0;34m\u001b[0m\u001b[0m\n\u001b[1;32m    105\u001b[0m         \u001b[0;31m# Make a reader for the audio, if any.\u001b[0m\u001b[0;34m\u001b[0m\u001b[0;34m\u001b[0m\u001b[0m\n",
      "\u001b[0;32m/Users/chriszhu/my-venv/lib/python2.7/site-packages/moviepy/video/io/ffmpeg_reader.pyc\u001b[0m in \u001b[0;36mget_frame\u001b[0;34m(self, t)\u001b[0m\n\u001b[1;32m    173\u001b[0m         \u001b[0;32melse\u001b[0m\u001b[0;34m:\u001b[0m\u001b[0;34m\u001b[0m\u001b[0m\n\u001b[1;32m    174\u001b[0m             \u001b[0;32mif\u001b[0m\u001b[0;34m(\u001b[0m\u001b[0mpos\u001b[0m \u001b[0;34m<\u001b[0m \u001b[0mself\u001b[0m\u001b[0;34m.\u001b[0m\u001b[0mpos\u001b[0m\u001b[0;34m)\u001b[0m \u001b[0;32mor\u001b[0m \u001b[0;34m(\u001b[0m\u001b[0mpos\u001b[0m \u001b[0;34m>\u001b[0m \u001b[0mself\u001b[0m\u001b[0;34m.\u001b[0m\u001b[0mpos\u001b[0m\u001b[0;34m+\u001b[0m\u001b[0;36m100\u001b[0m\u001b[0;34m)\u001b[0m\u001b[0;34m:\u001b[0m\u001b[0;34m\u001b[0m\u001b[0m\n\u001b[0;32m--> 175\u001b[0;31m                 \u001b[0mself\u001b[0m\u001b[0;34m.\u001b[0m\u001b[0minitialize\u001b[0m\u001b[0;34m(\u001b[0m\u001b[0mt\u001b[0m\u001b[0;34m)\u001b[0m\u001b[0;34m\u001b[0m\u001b[0m\n\u001b[0m\u001b[1;32m    176\u001b[0m                 \u001b[0mself\u001b[0m\u001b[0;34m.\u001b[0m\u001b[0mpos\u001b[0m \u001b[0;34m=\u001b[0m \u001b[0mpos\u001b[0m\u001b[0;34m\u001b[0m\u001b[0m\n\u001b[1;32m    177\u001b[0m             \u001b[0;32melse\u001b[0m\u001b[0;34m:\u001b[0m\u001b[0;34m\u001b[0m\u001b[0m\n",
      "\u001b[0;32m/Users/chriszhu/my-venv/lib/python2.7/site-packages/moviepy/video/io/ffmpeg_reader.pyc\u001b[0m in \u001b[0;36minitialize\u001b[0;34m(self, starttime)\u001b[0m\n\u001b[1;32m     76\u001b[0m         \u001b[0;34m\"\"\"Opens the file, creates the pipe. \"\"\"\u001b[0m\u001b[0;34m\u001b[0m\u001b[0m\n\u001b[1;32m     77\u001b[0m \u001b[0;34m\u001b[0m\u001b[0m\n\u001b[0;32m---> 78\u001b[0;31m         \u001b[0mself\u001b[0m\u001b[0;34m.\u001b[0m\u001b[0mclose\u001b[0m\u001b[0;34m(\u001b[0m\u001b[0;34m)\u001b[0m \u001b[0;31m# if any\u001b[0m\u001b[0;34m\u001b[0m\u001b[0m\n\u001b[0m\u001b[1;32m     79\u001b[0m \u001b[0;34m\u001b[0m\u001b[0m\n\u001b[1;32m     80\u001b[0m         \u001b[0;32mif\u001b[0m \u001b[0mstarttime\u001b[0m \u001b[0;34m!=\u001b[0m \u001b[0;36m0\u001b[0m \u001b[0;34m:\u001b[0m\u001b[0;34m\u001b[0m\u001b[0m\n",
      "\u001b[0;32m/Users/chriszhu/my-venv/lib/python2.7/site-packages/moviepy/video/io/ffmpeg_reader.pyc\u001b[0m in \u001b[0;36mclose\u001b[0;34m(self)\u001b[0m\n\u001b[1;32m    186\u001b[0m             \u001b[0mself\u001b[0m\u001b[0;34m.\u001b[0m\u001b[0mproc\u001b[0m\u001b[0;34m.\u001b[0m\u001b[0mstdout\u001b[0m\u001b[0;34m.\u001b[0m\u001b[0mclose\u001b[0m\u001b[0;34m(\u001b[0m\u001b[0;34m)\u001b[0m\u001b[0;34m\u001b[0m\u001b[0m\n\u001b[1;32m    187\u001b[0m             \u001b[0mself\u001b[0m\u001b[0;34m.\u001b[0m\u001b[0mproc\u001b[0m\u001b[0;34m.\u001b[0m\u001b[0mstderr\u001b[0m\u001b[0;34m.\u001b[0m\u001b[0mclose\u001b[0m\u001b[0;34m(\u001b[0m\u001b[0;34m)\u001b[0m\u001b[0;34m\u001b[0m\u001b[0m\n\u001b[0;32m--> 188\u001b[0;31m             \u001b[0mself\u001b[0m\u001b[0;34m.\u001b[0m\u001b[0mproc\u001b[0m\u001b[0;34m.\u001b[0m\u001b[0mwait\u001b[0m\u001b[0;34m(\u001b[0m\u001b[0;34m)\u001b[0m\u001b[0;34m\u001b[0m\u001b[0m\n\u001b[0m\u001b[1;32m    189\u001b[0m             \u001b[0;32mdel\u001b[0m \u001b[0mself\u001b[0m\u001b[0;34m.\u001b[0m\u001b[0mproc\u001b[0m\u001b[0;34m\u001b[0m\u001b[0m\n\u001b[1;32m    190\u001b[0m \u001b[0;34m\u001b[0m\u001b[0m\n",
      "\u001b[0;32m/System/Library/Frameworks/Python.framework/Versions/2.7/lib/python2.7/subprocess.pyc\u001b[0m in \u001b[0;36mwait\u001b[0;34m(self)\u001b[0m\n\u001b[1;32m   1382\u001b[0m             \u001b[0;32mwhile\u001b[0m \u001b[0mself\u001b[0m\u001b[0;34m.\u001b[0m\u001b[0mreturncode\u001b[0m \u001b[0;32mis\u001b[0m \u001b[0mNone\u001b[0m\u001b[0;34m:\u001b[0m\u001b[0;34m\u001b[0m\u001b[0m\n\u001b[1;32m   1383\u001b[0m                 \u001b[0;32mtry\u001b[0m\u001b[0;34m:\u001b[0m\u001b[0;34m\u001b[0m\u001b[0m\n\u001b[0;32m-> 1384\u001b[0;31m                     \u001b[0mpid\u001b[0m\u001b[0;34m,\u001b[0m \u001b[0msts\u001b[0m \u001b[0;34m=\u001b[0m \u001b[0m_eintr_retry_call\u001b[0m\u001b[0;34m(\u001b[0m\u001b[0mos\u001b[0m\u001b[0;34m.\u001b[0m\u001b[0mwaitpid\u001b[0m\u001b[0;34m,\u001b[0m \u001b[0mself\u001b[0m\u001b[0;34m.\u001b[0m\u001b[0mpid\u001b[0m\u001b[0;34m,\u001b[0m \u001b[0;36m0\u001b[0m\u001b[0;34m)\u001b[0m\u001b[0;34m\u001b[0m\u001b[0m\n\u001b[0m\u001b[1;32m   1385\u001b[0m                 \u001b[0;32mexcept\u001b[0m \u001b[0mOSError\u001b[0m \u001b[0;32mas\u001b[0m \u001b[0me\u001b[0m\u001b[0;34m:\u001b[0m\u001b[0;34m\u001b[0m\u001b[0m\n\u001b[1;32m   1386\u001b[0m                     \u001b[0;32mif\u001b[0m \u001b[0me\u001b[0m\u001b[0;34m.\u001b[0m\u001b[0merrno\u001b[0m \u001b[0;34m!=\u001b[0m \u001b[0merrno\u001b[0m\u001b[0;34m.\u001b[0m\u001b[0mECHILD\u001b[0m\u001b[0;34m:\u001b[0m\u001b[0;34m\u001b[0m\u001b[0m\n",
      "\u001b[0;32m/System/Library/Frameworks/Python.framework/Versions/2.7/lib/python2.7/subprocess.pyc\u001b[0m in \u001b[0;36m_eintr_retry_call\u001b[0;34m(func, *args)\u001b[0m\n\u001b[1;32m    474\u001b[0m     \u001b[0;32mwhile\u001b[0m \u001b[0mTrue\u001b[0m\u001b[0;34m:\u001b[0m\u001b[0;34m\u001b[0m\u001b[0m\n\u001b[1;32m    475\u001b[0m         \u001b[0;32mtry\u001b[0m\u001b[0;34m:\u001b[0m\u001b[0;34m\u001b[0m\u001b[0m\n\u001b[0;32m--> 476\u001b[0;31m             \u001b[0;32mreturn\u001b[0m \u001b[0mfunc\u001b[0m\u001b[0;34m(\u001b[0m\u001b[0;34m*\u001b[0m\u001b[0margs\u001b[0m\u001b[0;34m)\u001b[0m\u001b[0;34m\u001b[0m\u001b[0m\n\u001b[0m\u001b[1;32m    477\u001b[0m         \u001b[0;32mexcept\u001b[0m \u001b[0;34m(\u001b[0m\u001b[0mOSError\u001b[0m\u001b[0;34m,\u001b[0m \u001b[0mIOError\u001b[0m\u001b[0;34m)\u001b[0m \u001b[0;32mas\u001b[0m \u001b[0me\u001b[0m\u001b[0;34m:\u001b[0m\u001b[0;34m\u001b[0m\u001b[0m\n\u001b[1;32m    478\u001b[0m             \u001b[0;32mif\u001b[0m \u001b[0me\u001b[0m\u001b[0;34m.\u001b[0m\u001b[0merrno\u001b[0m \u001b[0;34m==\u001b[0m \u001b[0merrno\u001b[0m\u001b[0;34m.\u001b[0m\u001b[0mEINTR\u001b[0m\u001b[0;34m:\u001b[0m\u001b[0;34m\u001b[0m\u001b[0m\n",
      "\u001b[0;31mKeyboardInterrupt\u001b[0m: "
     ]
    }
   ],
   "source": [
    "current_frame = 0\n",
    "events = []\n",
    "\n",
    "for i in range(len(df)):\n",
    "    row = df.iloc[i]\n",
    "    home = row['HOMEDESCRIPTION']\n",
    "    away = row['VISITORDESCRIPTION']\n",
    "    score = row['SCORE']\n",
    "    time = GameTime(\n",
    "        row['PERIOD'],\n",
    "        row['PCTIMESTRING'].split(':')[0],\n",
    "        row['PCTIMESTRING'].split(':')[1]\n",
    "    )\n",
    "\n",
    "    if did_score(home):\n",
    "        print(home, score, str(time))\n",
    "    if did_score(away):\n",
    "        print(away, score, str(time))\n",
    "        \n",
    "    if not did_score(home) and not did_score(away):\n",
    "        continue\n",
    "    \n",
    "    # Seek to that time in the game\n",
    "    # Binary search up to that position.\n",
    "    print(\"Searching for time: {} from frame: {}\".format(time, current_frame))\n",
    "    current_frame = seek_to_time(\n",
    "        time,\n",
    "        current_frame,\n",
    "        clip,\n",
    "    )\n",
    "    \n",
    "    events.append({\n",
    "        'index': i,\n",
    "        'frame': current_frame,\n",
    "        'home': home,\n",
    "        'away': away,\n",
    "        'time': time,\n",
    "    })"
   ]
  },
  {
   "cell_type": "code",
   "execution_count": 34,
   "metadata": {
    "collapsed": false
   },
   "outputs": [
    {
     "name": "stdout",
     "output_type": "stream",
     "text": [
      "Current Frame: 1569\n",
      "1st 0:00 is after 1st 0:43\n",
      "Current Frame: 1570\n",
      "1st 0:00 is after 1st 0:43\n",
      "Current Frame: 1572\n",
      "1st 0:00 is after 1st 0:43\n",
      "Current Frame: 1575\n",
      "1st 0:00 is after 1st 0:43\n",
      "Current Frame: 1579\n",
      "1st 0:00 is after 1st 0:39\n",
      "Current Frame: 1584\n",
      "1st 0:00 is after 1st 0:34\n",
      "Current Frame: 1590\n",
      "1st 0:00 is after 1st 0:31\n",
      "Current Frame: 1598\n",
      "1st 0:00 is after 1st 0:31\n",
      "Current Frame: 1608\n",
      "1st 0:00 is after 1st 0:31\n",
      "Current Frame: 1620\n",
      "1st 0:00 is after 1st 0:31\n",
      "Current Frame: 1635\n",
      "1st 0:00 is after 1st 0:31\n",
      "Current Frame: 1653\n",
      "1st 0:00 is after 1st 0:20\n",
      "Current Frame: 1675\n",
      "Was not able to find valid time 1. Decoded: .rrn rn .\n",
      "Current Frame: 1702\n",
      "1st 0:00 is after 1st 0:20\n",
      "Current Frame: 1735\n",
      "Was not able to find valid time 1. Decoded: 151: 0.0\n",
      "Current Frame: 1775\n",
      "Was not able to find valid time 1. Decoded: n1n .\n",
      "3533.1\n",
      "Current Frame: 1823\n",
      "1st 0:00 is before 2nd 11:28\n",
      "Current Frame: 1822\n",
      "1st 0:00 is before 2nd 11:29\n",
      "Current Frame: 1821\n",
      "1st 0:00 is before 2nd 11:30\n",
      "Current Frame: 1820\n",
      "1st 0:00 is before 2nd 11:31\n",
      "Current Frame: 1819\n",
      "1st 0:00 is before 2nd 11:32\n",
      "Current Frame: 1818\n"
     ]
    },
    {
     "ename": "KeyboardInterrupt",
     "evalue": "",
     "output_type": "error",
     "traceback": [
      "\u001b[0;31m---------------------------------------------------------------------------\u001b[0m",
      "\u001b[0;31mKeyboardInterrupt\u001b[0m                         Traceback (most recent call last)",
      "\u001b[0;32m<ipython-input-34-baecc63162e4>\u001b[0m in \u001b[0;36m<module>\u001b[0;34m()\u001b[0m\n\u001b[1;32m      3\u001b[0m     \u001b[0;36m1569\u001b[0m\u001b[0;34m,\u001b[0m\u001b[0;34m\u001b[0m\u001b[0m\n\u001b[1;32m      4\u001b[0m     \u001b[0mclip\u001b[0m\u001b[0;34m,\u001b[0m\u001b[0;34m\u001b[0m\u001b[0m\n\u001b[0;32m----> 5\u001b[0;31m     \u001b[0mdebug\u001b[0m\u001b[0;34m=\u001b[0m\u001b[0mTrue\u001b[0m\u001b[0;34m\u001b[0m\u001b[0m\n\u001b[0m\u001b[1;32m      6\u001b[0m )\n",
      "\u001b[0;32m<ipython-input-7-1fd060aefeaa>\u001b[0m in \u001b[0;36mseek_to_time\u001b[0;34m(time, frame_number, clip, current_game_time, debug)\u001b[0m\n\u001b[1;32m     13\u001b[0m         \u001b[0;32mtry\u001b[0m\u001b[0;34m:\u001b[0m\u001b[0;34m\u001b[0m\u001b[0m\n\u001b[1;32m     14\u001b[0m             \u001b[0;31m# We found a game time. Is it greater or less than the time we are looking for?\u001b[0m\u001b[0;34m\u001b[0m\u001b[0;34m\u001b[0m\u001b[0m\n\u001b[0;32m---> 15\u001b[0;31m             \u001b[0mseek_game_time\u001b[0m \u001b[0;34m=\u001b[0m \u001b[0mgame_time_for_frame\u001b[0m\u001b[0;34m(\u001b[0m\u001b[0mclip\u001b[0m\u001b[0;34m.\u001b[0m\u001b[0mget_frame\u001b[0m\u001b[0;34m(\u001b[0m\u001b[0mcurrent_frame\u001b[0m\u001b[0;34m)\u001b[0m\u001b[0;34m)\u001b[0m\u001b[0;34m\u001b[0m\u001b[0m\n\u001b[0m\u001b[1;32m     16\u001b[0m             \u001b[0;32mif\u001b[0m \u001b[0mtime\u001b[0m\u001b[0;34m.\u001b[0m\u001b[0mis_before\u001b[0m\u001b[0;34m(\u001b[0m\u001b[0mseek_game_time\u001b[0m\u001b[0;34m)\u001b[0m\u001b[0;34m:\u001b[0m\u001b[0;34m\u001b[0m\u001b[0m\n\u001b[1;32m     17\u001b[0m                 \u001b[0;31m# Continue searching\u001b[0m\u001b[0;34m\u001b[0m\u001b[0;34m\u001b[0m\u001b[0m\n",
      "\u001b[0;32m<decorator-gen-136>\u001b[0m in \u001b[0;36mget_frame\u001b[0;34m(self, t)\u001b[0m\n",
      "\u001b[0;32m/Users/chriszhu/my-venv/lib/python2.7/site-packages/moviepy/decorators.pyc\u001b[0m in \u001b[0;36mwrapper\u001b[0;34m(f, *a, **kw)\u001b[0m\n\u001b[1;32m     87\u001b[0m         new_kw = {k: fun(v) if k in varnames else v\n\u001b[1;32m     88\u001b[0m                  for (k,v) in kw.items()}\n\u001b[0;32m---> 89\u001b[0;31m         \u001b[0;32mreturn\u001b[0m \u001b[0mf\u001b[0m\u001b[0;34m(\u001b[0m\u001b[0;34m*\u001b[0m\u001b[0mnew_a\u001b[0m\u001b[0;34m,\u001b[0m \u001b[0;34m**\u001b[0m\u001b[0mnew_kw\u001b[0m\u001b[0;34m)\u001b[0m\u001b[0;34m\u001b[0m\u001b[0m\n\u001b[0m\u001b[1;32m     90\u001b[0m     \u001b[0;32mreturn\u001b[0m \u001b[0mdecorator\u001b[0m\u001b[0;34m.\u001b[0m\u001b[0mdecorator\u001b[0m\u001b[0;34m(\u001b[0m\u001b[0mwrapper\u001b[0m\u001b[0;34m)\u001b[0m\u001b[0;34m\u001b[0m\u001b[0m\n\u001b[1;32m     91\u001b[0m \u001b[0;34m\u001b[0m\u001b[0m\n",
      "\u001b[0;32m/Users/chriszhu/my-venv/lib/python2.7/site-packages/moviepy/Clip.pyc\u001b[0m in \u001b[0;36mget_frame\u001b[0;34m(self, t)\u001b[0m\n\u001b[1;32m     93\u001b[0m                 \u001b[0;32mreturn\u001b[0m \u001b[0mframe\u001b[0m\u001b[0;34m\u001b[0m\u001b[0m\n\u001b[1;32m     94\u001b[0m         \u001b[0;32melse\u001b[0m\u001b[0;34m:\u001b[0m\u001b[0;34m\u001b[0m\u001b[0m\n\u001b[0;32m---> 95\u001b[0;31m             \u001b[0;32mreturn\u001b[0m \u001b[0mself\u001b[0m\u001b[0;34m.\u001b[0m\u001b[0mmake_frame\u001b[0m\u001b[0;34m(\u001b[0m\u001b[0mt\u001b[0m\u001b[0;34m)\u001b[0m\u001b[0;34m\u001b[0m\u001b[0m\n\u001b[0m\u001b[1;32m     96\u001b[0m \u001b[0;34m\u001b[0m\u001b[0m\n\u001b[1;32m     97\u001b[0m     \u001b[0;32mdef\u001b[0m \u001b[0mfl\u001b[0m\u001b[0;34m(\u001b[0m\u001b[0mself\u001b[0m\u001b[0;34m,\u001b[0m \u001b[0mfun\u001b[0m\u001b[0;34m,\u001b[0m \u001b[0mapply_to\u001b[0m\u001b[0;34m=\u001b[0m\u001b[0;34m[\u001b[0m\u001b[0;34m]\u001b[0m\u001b[0;34m,\u001b[0m \u001b[0mkeep_duration\u001b[0m\u001b[0;34m=\u001b[0m\u001b[0mTrue\u001b[0m\u001b[0;34m)\u001b[0m\u001b[0;34m:\u001b[0m\u001b[0;34m\u001b[0m\u001b[0m\n",
      "\u001b[0;32m/Users/chriszhu/my-venv/lib/python2.7/site-packages/moviepy/video/io/VideoFileClip.pyc\u001b[0m in \u001b[0;36m<lambda>\u001b[0;34m(t)\u001b[0m\n\u001b[1;32m    101\u001b[0m         \u001b[0;32melse\u001b[0m\u001b[0;34m:\u001b[0m\u001b[0;34m\u001b[0m\u001b[0m\n\u001b[1;32m    102\u001b[0m \u001b[0;34m\u001b[0m\u001b[0m\n\u001b[0;32m--> 103\u001b[0;31m             \u001b[0mself\u001b[0m\u001b[0;34m.\u001b[0m\u001b[0mmake_frame\u001b[0m \u001b[0;34m=\u001b[0m \u001b[0;32mlambda\u001b[0m \u001b[0mt\u001b[0m\u001b[0;34m:\u001b[0m \u001b[0mself\u001b[0m\u001b[0;34m.\u001b[0m\u001b[0mreader\u001b[0m\u001b[0;34m.\u001b[0m\u001b[0mget_frame\u001b[0m\u001b[0;34m(\u001b[0m\u001b[0mt\u001b[0m\u001b[0;34m)\u001b[0m\u001b[0;34m\u001b[0m\u001b[0m\n\u001b[0m\u001b[1;32m    104\u001b[0m \u001b[0;34m\u001b[0m\u001b[0m\n\u001b[1;32m    105\u001b[0m         \u001b[0;31m# Make a reader for the audio, if any.\u001b[0m\u001b[0;34m\u001b[0m\u001b[0;34m\u001b[0m\u001b[0m\n",
      "\u001b[0;32m/Users/chriszhu/my-venv/lib/python2.7/site-packages/moviepy/video/io/ffmpeg_reader.pyc\u001b[0m in \u001b[0;36mget_frame\u001b[0;34m(self, t)\u001b[0m\n\u001b[1;32m    177\u001b[0m             \u001b[0;32melse\u001b[0m\u001b[0;34m:\u001b[0m\u001b[0;34m\u001b[0m\u001b[0m\n\u001b[1;32m    178\u001b[0m                 \u001b[0mself\u001b[0m\u001b[0;34m.\u001b[0m\u001b[0mskip_frames\u001b[0m\u001b[0;34m(\u001b[0m\u001b[0mpos\u001b[0m\u001b[0;34m-\u001b[0m\u001b[0mself\u001b[0m\u001b[0;34m.\u001b[0m\u001b[0mpos\u001b[0m\u001b[0;34m-\u001b[0m\u001b[0;36m1\u001b[0m\u001b[0;34m)\u001b[0m\u001b[0;34m\u001b[0m\u001b[0m\n\u001b[0;32m--> 179\u001b[0;31m             \u001b[0mresult\u001b[0m \u001b[0;34m=\u001b[0m \u001b[0mself\u001b[0m\u001b[0;34m.\u001b[0m\u001b[0mread_frame\u001b[0m\u001b[0;34m(\u001b[0m\u001b[0;34m)\u001b[0m\u001b[0;34m\u001b[0m\u001b[0m\n\u001b[0m\u001b[1;32m    180\u001b[0m             \u001b[0mself\u001b[0m\u001b[0;34m.\u001b[0m\u001b[0mpos\u001b[0m \u001b[0;34m=\u001b[0m \u001b[0mpos\u001b[0m\u001b[0;34m\u001b[0m\u001b[0m\n\u001b[1;32m    181\u001b[0m             \u001b[0;32mreturn\u001b[0m \u001b[0mresult\u001b[0m\u001b[0;34m\u001b[0m\u001b[0m\n",
      "\u001b[0;32m/Users/chriszhu/my-venv/lib/python2.7/site-packages/moviepy/video/io/ffmpeg_reader.pyc\u001b[0m in \u001b[0;36mread_frame\u001b[0;34m(self)\u001b[0m\n\u001b[1;32m    120\u001b[0m         \u001b[0mnbytes\u001b[0m\u001b[0;34m=\u001b[0m \u001b[0mself\u001b[0m\u001b[0;34m.\u001b[0m\u001b[0mdepth\u001b[0m\u001b[0;34m*\u001b[0m\u001b[0mw\u001b[0m\u001b[0;34m*\u001b[0m\u001b[0mh\u001b[0m\u001b[0;34m\u001b[0m\u001b[0m\n\u001b[1;32m    121\u001b[0m \u001b[0;34m\u001b[0m\u001b[0m\n\u001b[0;32m--> 122\u001b[0;31m         \u001b[0ms\u001b[0m \u001b[0;34m=\u001b[0m \u001b[0mself\u001b[0m\u001b[0;34m.\u001b[0m\u001b[0mproc\u001b[0m\u001b[0;34m.\u001b[0m\u001b[0mstdout\u001b[0m\u001b[0;34m.\u001b[0m\u001b[0mread\u001b[0m\u001b[0;34m(\u001b[0m\u001b[0mnbytes\u001b[0m\u001b[0;34m)\u001b[0m\u001b[0;34m\u001b[0m\u001b[0m\n\u001b[0m\u001b[1;32m    123\u001b[0m         \u001b[0;32mif\u001b[0m \u001b[0mlen\u001b[0m\u001b[0;34m(\u001b[0m\u001b[0ms\u001b[0m\u001b[0;34m)\u001b[0m \u001b[0;34m!=\u001b[0m \u001b[0mnbytes\u001b[0m\u001b[0;34m:\u001b[0m\u001b[0;34m\u001b[0m\u001b[0m\n\u001b[1;32m    124\u001b[0m \u001b[0;34m\u001b[0m\u001b[0m\n",
      "\u001b[0;31mKeyboardInterrupt\u001b[0m: "
     ]
    }
   ],
   "source": [
    "seek_to_time(\n",
    "    GameTime(1, 0, 0),\n",
    "    1569,\n",
    "    clip,\n",
    "    debug=True\n",
    ")"
   ]
  },
  {
   "cell_type": "code",
   "execution_count": 35,
   "metadata": {
    "collapsed": false
   },
   "outputs": [
    {
     "data": {
      "image/png": "[encoded data removed]",
      "text/plain": [
       "<PIL.Image.Image image mode=RGB size=120x39 at 0x109C80350>"
      ]
     },
     "execution_count": 35,
     "metadata": {},
     "output_type": "execute_result"
    }
   ],
   "source": [
    "img = current_game_time(clip.get_frame(1735))\n",
    "img"
   ]
  },
  {
   "cell_type": "code",
   "execution_count": 38,
   "metadata": {
    "collapsed": false
   },
   "outputs": [
    {
     "data": {
      "text/plain": [
       "u'1st 00'"
      ]
     },
     "execution_count": 38,
     "metadata": {},
     "output_type": "execute_result"
    }
   ],
   "source": [
    "pytesseract.image_to_string(img, config=\"-c tessedit_char_whitelist=0123456789:stndrh -psm 6\")"
   ]
  },
  {
   "cell_type": "code",
   "execution_count": null,
   "metadata": {
    "collapsed": true
   },
   "outputs": [],
   "source": [
    "def process_events(events, clip):\n",
    "    frames = []\n",
    "    subclips = []\n",
    "    for event in events:\n",
    "        frame_number = event['frame']\n",
    "        frame = clip.get_frame(frame_number)\n",
    "        \n",
    "        # TODO: make sure frames don't overlap\n",
    "        start = frame_number - 8\n",
    "        end = frame_number + 4\n",
    "        \n",
    "        subclips.append(clip.subclip(start, end))\n",
    "        frames.append(frame)\n",
    "    return subclips, frames"
   ]
  },
  {
   "cell_type": "code",
   "execution_count": null,
   "metadata": {
    "collapsed": false
   },
   "outputs": [],
   "source": [
    "subclips, frames = process_events(events, clip)"
   ]
  },
  {
   "cell_type": "code",
   "execution_count": null,
   "metadata": {
    "collapsed": false
   },
   "outputs": [],
   "source": [
    "plt.figure(figsize=(20, 10))\n",
    "for i, frame in enumerate(frames):\n",
    "    plt.subplot(4, 2, i + 1)\n",
    "    plt.imshow(frame)\n",
    "    plt.axis('off')\n",
    "plt.tight_layout()"
   ]
  },
  {
   "cell_type": "code",
   "execution_count": null,
   "metadata": {
    "collapsed": false
   },
   "outputs": [],
   "source": [
    "highlights = concatenate_videoclips(subclips)"
   ]
  },
  {
   "cell_type": "code",
   "execution_count": null,
   "metadata": {
    "collapsed": false
   },
   "outputs": [],
   "source": [
    "highlights.write_videofile('highlights.mp4')"
   ]
  },
  {
   "cell_type": "code",
   "execution_count": null,
   "metadata": {
    "collapsed": false
   },
   "outputs": [],
   "source": [
    "subclips[0].duration"
   ]
  },
  {
   "cell_type": "code",
   "execution_count": null,
   "metadata": {
    "collapsed": true
   },
   "outputs": [],
   "source": []
  }
 ],
 "metadata": {
  "kernelspec": {
   "display_name": "Python 2",
   "language": "python",
   "name": "python2"
  },
  "language_info": {
   "codemirror_mode": {
    "name": "ipython",
    "version": 2
   },
   "file_extension": ".py",
   "mimetype": "text/x-python",
   "name": "python",
   "nbconvert_exporter": "python",
   "pygments_lexer": "ipython2",
   "version": "2.7.10"
  }
 },
 "nbformat": 4,
 "nbformat_minor": 0
}
